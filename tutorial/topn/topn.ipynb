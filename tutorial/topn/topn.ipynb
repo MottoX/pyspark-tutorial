{
 "cells": [
  {
   "cell_type": "markdown",
   "metadata": {},
   "source": [
    "# Top N算法\n",
    "本章节将介绍通过Spark解决Top N问题"
   ]
  },
  {
   "cell_type": "markdown",
   "metadata": {},
   "source": [
    "我们首先来看一个简单的问题，给定一个不重复的数字列表，求出最大的5个数字。"
   ]
  },
  {
   "cell_type": "code",
   "execution_count": null,
   "metadata": {
    "collapsed": true
   },
   "outputs": [],
   "source": [
    "rdd = sc.parallelize([3, 8, -1, 19, 14, 27, 1, 5, 11, -2, 88, 34])"
   ]
  },
  {
   "cell_type": "code",
   "execution_count": null,
   "metadata": {},
   "outputs": [],
   "source": [
    "rdd.takeOrdered(5, key=lambda x: -x)"
   ]
  },
  {
   "cell_type": "markdown",
   "metadata": {},
   "source": [
    "这里我们使用takeOrdered函数筛选出最大的5个元素,其内部以heapq（堆）来实现取最小n个元素，这里我们将key指定为取负数即可变为取最大n个元素"
   ]
  },
  {
   "cell_type": "markdown",
   "metadata": {},
   "source": [
    "然而实际问题中，我们往往更常见的数据形式是以k-v对出现的，比如URL访问统计、词频统计等\n",
    "先考虑一个比较简单的情况,假设key是没有重复的：则我们可以对每个分区都求top n，再通过reduce将每个分区的top n规约成最终的top n。\n",
    "之所以每个分区都要取top n，是因为你不知道最终的top n是如何分布在哪些分区上，甚至可能会有全部属于某个分区的极端情况\n",
    "\n",
    "那么如果key是有重复的话，情况就不一样了。此时应该需要先做一次wordcount操作保证key不重复，再做top n"
   ]
  },
  {
   "cell_type": "markdown",
   "metadata": {},
   "source": [
    "在如下的示例中，样例文件*url.txt*每行一个url，共有十多种不同的url，我们将通过Spark计算出现频次最多的前3个"
   ]
  },
  {
   "cell_type": "code",
   "execution_count": null,
   "metadata": {},
   "outputs": [],
   "source": [
    "urls = sc.textFile(\"url.txt\", 4)"
   ]
  },
  {
   "cell_type": "code",
   "execution_count": null,
   "metadata": {},
   "outputs": [],
   "source": [
    "kv = urls.map(lambda x:(x,1)).reduceByKey(lambda x, y: x+y)"
   ]
  },
  {
   "cell_type": "code",
   "execution_count": null,
   "metadata": {},
   "outputs": [],
   "source": [
    "result = kv.takeOrdered(3, key=lambda url_cnt: -url_cnt[1])\n",
    "result"
   ]
  },
  {
   "cell_type": "markdown",
   "metadata": {},
   "source": [
    "最终可以看到Spark计算得出了频次最高的3个url：\n",
    "```\n",
    "[('facebook.com', 241), ('reddit.com', 166), ('amazon.com', 145)]\n",
    "```"
   ]
  }
 ],
 "metadata": {
  "kernelspec": {
   "display_name": "Python 3",
   "language": "python",
   "name": "python3"
  },
  "language_info": {
   "codemirror_mode": {
    "name": "ipython",
    "version": 3.0
   },
   "file_extension": ".py",
   "mimetype": "text/x-python",
   "name": "python",
   "nbconvert_exporter": "python",
   "pygments_lexer": "ipython3",
   "version": "3.5.2"
  }
 },
 "nbformat": 4,
 "nbformat_minor": 0
}