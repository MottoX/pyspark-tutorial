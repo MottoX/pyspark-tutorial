{
 "cells": [
  {
   "cell_type": "markdown",
   "metadata": {
    "collapsed": true
   },
   "source": [
    "# 单词统计\n",
    "本章节通过经典的单词统计来学习Spark的基础应用"
   ]
  },
  {
   "cell_type": "markdown",
   "metadata": {},
   "source": [
    "**首先需要保证sc已经初始化好，执行下面的cell，应该能看到如下所示内容:**\n",
    "```\n",
    "SparkContext\n",
    "Spark UI\n",
    "Version\n",
    "v2.2.0\n",
    "Master\n",
    "local[*]\n",
    "AppName\n",
    "PySparkShell\n",
    "```"
   ]
  },
  {
   "cell_type": "code",
   "execution_count": null,
   "metadata": {},
   "outputs": [],
   "source": [
    "sc"
   ]
  },
  {
   "cell_type": "markdown",
   "metadata": {
    "collapsed": true
   },
   "source": [
    "在本文件夹路径下已经建有*softk_itty.txt*文件，内容来源于英文歌曲《Soft Kitty》:\n",
    "```\n",
    "soft kitty\n",
    "warm kitty\n",
    "little ball of fur\n",
    "happy kitty\n",
    "sleepy kitty\n",
    "purr purr purr\n",
    "```\n",
    "我们接下来将基于此执行一些基本操作"
   ]
  },
  {
   "cell_type": "code",
   "execution_count": null,
   "metadata": {
    "collapsed": true
   },
   "outputs": [],
   "source": [
    "# 创建一个rdd\n",
    "rdd = sc.textFile(\"soft_kitty.txt\")"
   ]
  },
  {
   "cell_type": "markdown",
   "metadata": {},
   "source": [
    "通过对一个rdd进行collect()，我们可以做一些小规模的debug来查看其中内容"
   ]
  },
  {
   "cell_type": "code",
   "execution_count": null,
   "metadata": {},
   "outputs": [],
   "source": [
    "rdd.collect()"
   ]
  },
  {
   "cell_type": "code",
   "execution_count": null,
   "metadata": {
    "collapsed": true
   },
   "outputs": [],
   "source": [
    "words = rdd.flatMap(lambda line:line.split())"
   ]
  },
  {
   "cell_type": "code",
   "execution_count": null,
   "metadata": {},
   "outputs": [],
   "source": [
    "words.collect()"
   ]
  },
  {
   "cell_type": "markdown",
   "metadata": {},
   "source": [
    "如上所示，仍然通过collect()，可以观察到单词已经被切分完了：\n",
    "```\n",
    "['soft',\n",
    " 'kitty',\n",
    " 'warm',\n",
    " 'kitty',\n",
    " 'little',\n",
    " 'ball',\n",
    " 'of',\n",
    " 'fur',\n",
    " 'happy',\n",
    " 'kitty',\n",
    " 'sleepy',\n",
    " 'kitty',\n",
    " 'purr',\n",
    " 'purr',\n",
    " 'purr']\n",
    "```"
   ]
  },
  {
   "cell_type": "code",
   "execution_count": null,
   "metadata": {
    "collapsed": true
   },
   "outputs": [],
   "source": [
    "pairs = words.map(lambda word: (word, 1))"
   ]
  },
  {
   "cell_type": "code",
   "execution_count": null,
   "metadata": {},
   "outputs": [],
   "source": [
    "pairs.collect()"
   ]
  },
  {
   "cell_type": "markdown",
   "metadata": {},
   "source": [
    "我们通过map函数将单词转化为键值对，key为单词，value为次数，接下来通过按照key进行规约求和即可统计出每个单词出现的次数"
   ]
  },
  {
   "cell_type": "code",
   "execution_count": null,
   "metadata": {
    "collapsed": true
   },
   "outputs": [],
   "source": [
    "result = pairs.reduceByKey(lambda x, y: x + y)"
   ]
  },
  {
   "cell_type": "code",
   "execution_count": null,
   "metadata": {},
   "outputs": [],
   "source": [
    "result.collect()"
   ]
  },
  {
   "cell_type": "markdown",
   "metadata": {
    "collapsed": true
   },
   "source": [
    "我们通过reduceByKey将结果按照键值规约相加，得到了单词的计数的结果"
   ]
  },
  {
   "cell_type": "markdown",
   "metadata": {},
   "source": [
    "最后，我们可以把结果保存到本地(注意：如果已经执行过如下的操作，需要先删除文件夹)"
   ]
  },
  {
   "cell_type": "code",
   "execution_count": null,
   "metadata": {
    "collapsed": true
   },
   "outputs": [],
   "source": [
    "! rm -rf output"
   ]
  },
  {
   "cell_type": "code",
   "execution_count": null,
   "metadata": {},
   "outputs": [],
   "source": [
    "result.saveAsTextFile(\"output\")"
   ]
  },
  {
   "cell_type": "markdown",
   "metadata": {},
   "source": [
    "可以查看保存下来的内容"
   ]
  },
  {
   "cell_type": "code",
   "execution_count": null,
   "metadata": {},
   "outputs": [],
   "source": [
    "! ls output\n",
    "! cat output/part*"
   ]
  }
 ],
 "metadata": {
  "kernelspec": {
   "display_name": "Python 3",
   "language": "python",
   "name": "python3"
  },
  "language_info": {
   "codemirror_mode": {
    "name": "ipython",
    "version": 3.0
   },
   "file_extension": ".py",
   "mimetype": "text/x-python",
   "name": "python",
   "nbconvert_exporter": "python",
   "pygments_lexer": "ipython3",
   "version": "3.5.2"
  }
 },
 "nbformat": 4,
 "nbformat_minor": 0
}