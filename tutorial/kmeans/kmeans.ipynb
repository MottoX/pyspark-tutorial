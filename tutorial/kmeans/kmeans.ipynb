{
 "cells": [
  {
   "cell_type": "markdown",
   "metadata": {
    "collapsed": true
   },
   "source": [
    "# K-means Clustering（K-均值聚类）\n",
    "聚类属于无监督学习，是数据挖掘中常用算法。\n",
    "常用于：\n",
    "* 基于特征将用户群体分组\n",
    "* 文档、日志数据聚类\n",
    "* 风控欺诈行为识别\n",
    "* 相似基因查找\n",
    "* 生态学群体划分\n",
    "* 图像识别检测\n",
    "\n",
    "![](https://i.stack.imgur.com/cIDB3.png)\n",
    "\n",
    "聚类算法中K-均值聚类是最简单的一种算法。\n",
    "K-均值聚类试图将样本中的数据划分为K个不同的类簇（其中K是给定的输入参数）。它的目标是最小化数据样本到所属类簇中心（也称为质心）\n",
    "我们可以形式化定义我们的目标为最小化:\n",
    "\\begin{equation}\n",
    "\\min \\sum_{i=1}^k\\sum_{{x}\\in {C}_{i}}\\lVert x - {u}_{i}\\rVert^2\n",
    "\\end{equation}\n",
    "换而言之，目标就是最小化样本与类簇质心的距离平方和\n",
    "\n",
    "K-均值聚类的算法步骤可以描述为：\n",
    "1. 随机分配K个类簇中心\n",
    "2. 将样本数据分配到最近的质心\n",
    "3. 重新计算各个类簇的中心，如果达到迭代次数或者**收敛**(通常可以定义为与上次类簇中心距离小于某个阈值)则结束算法，否则回到步骤2\n",
    "\n",
    "我们通常选用欧式距离作为距离函数，欧式距离有一些很好的性质：\n",
    "* d(i,j)>=0\n",
    "* d(i,i)==0\n",
    "* d(i,j)=d(j,i)\n",
    "* d(i,j)<=d(i,k)+d(k,j)\n",
    "\n",
    "\n",
    "![](http://konukoii.com/blog/wp-content/uploads/2017/01/RunyanKmeans.gif)\n",
    "\n",
    "本篇介绍通过Spark实现K-均值聚类"
   ]
  },
  {
   "cell_type": "markdown",
   "metadata": {},
   "source": [
    "## 数据使用说明\n",
    "下面的程序采用的数据源自[IRIS数据集](http://archive.ics.uci.edu/ml/datasets/Iris)\n",
    "IRIS共150个样本，分为3组，每组50条数据，每条数据包含4个属性:\n",
    "1. 花萼长度\n",
    "2. 花萼宽度P\n",
    "3. 花瓣长度\n",
    "4. 花瓣宽度\n",
    "\n",
    "通过这四个属性来对鸢尾花数据集进行K-means聚类\n",
    "\n",
    "## Python依赖\n",
    "* NumPy\n",
    "* Matplotlib"
   ]
  },
  {
   "cell_type": "code",
   "execution_count": null,
   "metadata": {
    "collapsed": true
   },
   "outputs": [],
   "source": [
    "%matplotlib inline\n",
    "import numpy as np\n",
    "import matplotlib.pyplot as plt"
   ]
  },
  {
   "cell_type": "code",
   "execution_count": null,
   "metadata": {
    "collapsed": true
   },
   "outputs": [],
   "source": [
    "def load_iris():\n",
    "    return np.genfromtxt('iris.csv',\n",
    "                       delimiter=',',\n",
    "                       dtype=np.float)\n"
   ]
  },
  {
   "cell_type": "code",
   "execution_count": null,
   "metadata": {
    "collapsed": true
   },
   "outputs": [],
   "source": [
    "# 我们使用欧式距离的平方作为距离函数\n",
    "def dist(a, b):\n",
    "    c=a-b\n",
    "    r=np.inner(c,c)\n",
    "    return r"
   ]
  },
  {
   "cell_type": "code",
   "execution_count": null,
   "metadata": {
    "collapsed": true
   },
   "outputs": [],
   "source": [
    "def kmeans(dataset, k, eps=0.0001, max_iter_num=300):\n",
    "    # 数据个数和特征维度\n",
    "    count, features = dataset.shape\n",
    "\n",
    "    # 随机初始化一组质心\n",
    "    centers = dataset[np.random.randint(0, count - 1, size=k)]\n",
    "\n",
    "    # belongs数组用来表示每条数据所属的质心编号\n",
    "    belongs = np.zeros(count)\n",
    "\n",
    "    iter_num = 1\n",
    "    last_dist_sum = -1\n",
    "    while iter_num <= max_iter_num:\n",
    "        iter_num += 1\n",
    "\n",
    "        # 计算所有鸢尾花到k个质心的距离，并更新belongs数组\n",
    "        for i, iris in enumerate(dataset):\n",
    "            dist_to_centers = np.zeros((k, 1))\n",
    "            for j, center in enumerate(centers):\n",
    "                dist_to_centers[j] = dist(center, iris)\n",
    "            # 更新所在类簇\n",
    "            belongs[i] = np.argmin(dist_to_centers)\n",
    "\n",
    "        new_centers = np.zeros_like(centers)\n",
    "        dist_sum = 0\n",
    "        for i in range(len(centers)):\n",
    "            # 捞取所有这轮迭代中被归到此质心的点的编号\n",
    "            iris_in_cluster = [j for j in range(count) if belongs[j] == i]\n",
    "\n",
    "            # 取平均值作为新的质心\n",
    "            new_center = np.mean(dataset[iris_in_cluster], axis=0)\n",
    "            new_centers[i] = new_center\n",
    "            dist_sum += sum(dist(iris, new_center) for iris in iris_in_cluster)\n",
    "\n",
    "        # 收敛则退出\n",
    "        if last_dist_sum != -1 and abs(dist_sum - last_dist_sum) < eps:\n",
    "            break\n",
    "        last_dist_sum = dist_sum\n",
    "        centers = new_centers\n",
    "    return belongs, centers"
   ]
  },
  {
   "cell_type": "code",
   "execution_count": null,
   "metadata": {
    "collapsed": true
   },
   "outputs": [],
   "source": [
    "def plot_result(dataset, belongs, centers):\n",
    "    colors = ['r', 'g', 'b']\n",
    "    for i, iris in enumerate(dataset):\n",
    "        plt.scatter(iris[0], iris[1], color=colors[int(belongs[i])])\n",
    "    for point in centers:\n",
    "        plt.scatter(point[0], point[1], color='k', s=80)"
   ]
  },
  {
   "cell_type": "code",
   "execution_count": null,
   "metadata": {},
   "outputs": [],
   "source": [
    "dataset = load_iris()\n",
    "# 花萼聚类\n",
    "sepal = dataset[:, :2]\n",
    "cluster, centers = kmeans(sepal, 3)\n",
    "plot_result(sepal, cluster, centers)"
   ]
  },
  {
   "cell_type": "code",
   "execution_count": null,
   "metadata": {},
   "outputs": [],
   "source": [
    "# 花瓣聚类\n",
    "petal = dataset[:, 2:]\n",
    "cluster, centers = kmeans(petal, 3)\n",
    "plot_result(petal, cluster, centers)"
   ]
  },
  {
   "cell_type": "markdown",
   "metadata": {
    "collapsed": true
   },
   "source": [
    "## 使用Spark MLlib处理K-均值聚类\n",
    "Spark的MLlib已经封装好了许多机器学习的算法，目前Spark中存在mllib与ml两个包，mllib主要基于RDD，而ml主要基于DataFrame。\n",
    "下面的示例中我们使用mllib中的聚类算法对鸢尾花数据进行聚类，可以观察到与上面直接实现算法相同的结果。"
   ]
  },
  {
   "cell_type": "code",
   "execution_count": null,
   "metadata": {
    "collapsed": true
   },
   "outputs": [],
   "source": [
    "from pyspark.mllib.clustering import KMeans\n",
    "\n",
    "def calculate_and_plot(dataset, k):\n",
    "    model = KMeans.train(dataset, k)\n",
    "    belongs = model.predict(dataset).collect()\n",
    "    plot_result(dataset.collect(), belongs, model.clusterCenters)"
   ]
  },
  {
   "cell_type": "code",
   "execution_count": null,
   "metadata": {},
   "outputs": [],
   "source": [
    "iris_rdd = sc.textFile('iris.csv')\n",
    "# 花萼聚类\n",
    "sepal = iris_rdd.map(lambda line: np.array([float(x) for x in line.split(',')][:2]))\n",
    "calculate_and_plot(sepal, 3)"
   ]
  },
  {
   "cell_type": "code",
   "execution_count": null,
   "metadata": {},
   "outputs": [],
   "source": [
    "# 花瓣聚类\n",
    "petal = iris_rdd.map(lambda line: np.array([float(x) for x in line.split(',')][2:]))\n",
    "calculate_and_plot(petal, 3)"
   ]
  }
 ],
 "metadata": {
  "kernelspec": {
   "display_name": "Python 3",
   "language": "python",
   "name": "python3"
  },
  "language_info": {
   "codemirror_mode": {
    "name": "ipython",
    "version": 3
   },
   "file_extension": ".py",
   "mimetype": "text/x-python",
   "name": "python",
   "nbconvert_exporter": "python",
   "pygments_lexer": "ipython3",
   "version": "3.5.2"
  }
 },
 "nbformat": 4,
 "nbformat_minor": 1
}
